{
 "cells": [
  {
   "cell_type": "markdown",
   "id": "356dfcba",
   "metadata": {},
   "source": [
    "# Flight Data"
   ]
  },
  {
   "cell_type": "code",
   "execution_count": 7,
   "id": "9d93b3fd",
   "metadata": {},
   "outputs": [],
   "source": [
    "import pandas as pd\n",
    "\n",
    "from bokeh.plotting import figure, output_file, show\n",
    "\n",
    "from bokeh.models import ColumnDataSource\n",
    "\n",
    "\n",
    "output_file('flight.html')\n",
    "\n",
    "df = pd.read_csv('/home/ec2-user/flightdata.csv')\n",
    "\n",
    "sample = df.sample (1000)\n",
    "\n",
    "source = ColumnDataSource(sample)\n",
    "\n",
    "p=figure()\n",
    "\n",
    "p.circle(x='DepTime', y='CRSDepTime', source=source, size=4, color='blue')\n",
    "\n",
    "p.title.text = 'Flight Delay Period'\n",
    "\n",
    "p.xaxis.axis_label = \"Actual Departure Time\"\n",
    "\n",
    "p.yaxis.axis_label = \"Estimated Departure Time\"\n",
    "\n",
    "show(p)"
   ]
  },
  {
   "cell_type": "code",
   "execution_count": null,
   "id": "f4ff8243",
   "metadata": {},
   "outputs": [],
   "source": []
  }
 ],
 "metadata": {
  "kernelspec": {
   "display_name": "conda_python3",
   "language": "python",
   "name": "conda_python3"
  },
  "language_info": {
   "codemirror_mode": {
    "name": "ipython",
    "version": 3
   },
   "file_extension": ".py",
   "mimetype": "text/x-python",
   "name": "python",
   "nbconvert_exporter": "python",
   "pygments_lexer": "ipython3",
   "version": "3.10.8"
  }
 },
 "nbformat": 4,
 "nbformat_minor": 5
}
